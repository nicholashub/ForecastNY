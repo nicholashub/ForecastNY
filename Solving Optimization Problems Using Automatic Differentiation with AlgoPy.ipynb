{
 "cells": [
  {
   "cell_type": "markdown",
   "metadata": {},
   "source": [
    "# Solving Optimization Problems Using Automatic Differentiation with AlgoPy"
   ]
  },
  {
   "cell_type": "code",
   "execution_count": 1,
   "metadata": {
    "collapsed": true
   },
   "outputs": [],
   "source": [
    "import algopy\n",
    "import matplotlib.pyplot as plt\n",
    "import numpy as np\n",
    "from scipy.optimize import minimize\n",
    "\n",
    "%matplotlib inline"
   ]
  },
  {
   "cell_type": "markdown",
   "metadata": {
    "collapsed": true
   },
   "source": [
    "## Implementing Automatic Differentiation Using AlgoPy"
   ]
  },
  {
   "cell_type": "code",
   "execution_count": 2,
   "metadata": {
    "collapsed": false
   },
   "outputs": [],
   "source": [
    "class AD():\n",
    "\n",
    "    def __init__(self, f):\n",
    "        self.f = f     \n",
    "\n",
    "    # Forward Mode Derivative Evaluations\n",
    "    def grad_forward(self, x):\n",
    "        x = algopy.UTPM.init_jacobian(x)\n",
    "        return algopy.UTPM.extract_jacobian(self.f(x))\n",
    "    \n",
    "    def hess_forward(self, x):\n",
    "        x = algopy.UTPM.init_hessian(x)\n",
    "        return algopy.UTPM.extract_hessian(len(x), self.f(x))\n",
    "\n",
    "    def hess_vector_forward(self, x, v):\n",
    "        x = algopy.UTPM.init_hess_vec(x, v)\n",
    "        return algopy.UTPM.extract_hess_vec(len(x), self.f(x))\n",
    "    \n",
    "    # Reverse Mode Derivative Evaluations\n",
    "    def trace_eval_f(self, x):\n",
    "        cg = algopy.CGraph()\n",
    "        x = algopy.Function(x)\n",
    "        y = self.f(x)\n",
    "        cg.trace_off()\n",
    "        cg.independentFunctionList = [x]\n",
    "        cg.dependentFunctionList = [y]\n",
    "        self.cg = cg\n",
    "\n",
    "    def grad_reverse(self, x):\n",
    "        self.trace_eval_f(x)\n",
    "        return self.cg.gradient(x)\n",
    "\n",
    "    def hess_reverse(self, x):\n",
    "        self.trace_eval_f(x)\n",
    "        return self.cg.hessian(x)\n",
    "    \n",
    "    def hess_vector_reverse(self, x, v):\n",
    "        self.trace_eval_f(x)\n",
    "        return self.cg.hess_vec(x,v)"
   ]
  },
  {
   "cell_type": "markdown",
   "metadata": {},
   "source": [
    "## Gradient Descent Method"
   ]
  },
  {
   "cell_type": "code",
   "execution_count": 3,
   "metadata": {
    "collapsed": true
   },
   "outputs": [],
   "source": [
    "class Grad_Descent():\n",
    "    \n",
    "    def minimize(self, f, f_grad, x, step=1e-3, iterations=1e3, precision=1e-3):\n",
    "        count, self.fs = 0, np.zeros((int(iterations), len(x)))\n",
    "        \"\"\"Find local minimum using gradient descent method\"\"\"\n",
    "        while True:\n",
    "            last_x = x\n",
    "            x = x - step * f_grad(x)\n",
    "            self.fs[count, :] = x\n",
    "            count += 1\n",
    "            if count >= iterations:\n",
    "                self.msg = \"Optimization Stop Reason: Exceeded maximum number of iterations\"\n",
    "                break\n",
    "            if np.linalg.norm(x - last_x) < precision:\n",
    "                self.msg = \"Optimization Stop Reason: Precision is reached\"\n",
    "                break\n",
    "        self.fs = np.apply_along_axis(f, 1, self.fs[:count,:])\n",
    "        return x\n",
    "\n",
    "    def converge_plot(self):\n",
    "        \"\"\"Shows if function values decline as number of iteration increases;\n",
    "           Used to debug gradient descent method\n",
    "        \"\"\"\n",
    "        plt.plot(self.fs, 'o')\n",
    "        plt.xlabel('Number of Iterations')\n",
    "        plt.ylabel('Function Values')\n",
    "        plt.show()"
   ]
  },
  {
   "cell_type": "markdown",
   "metadata": {},
   "source": [
    "## Test Function for Optimization: Rosenbrock Function"
   ]
  },
  {
   "cell_type": "code",
   "execution_count": 4,
   "metadata": {
    "collapsed": false
   },
   "outputs": [],
   "source": [
    "def rosenbrock(x):\n",
    "    \"\"\"The Rosenbrock function\"\"\"\n",
    "    return sum(100.0*(x[1:]-x[:-1]**2.0)**2.0 + (1-x[:-1])**2.0)\n",
    "\n",
    "def rosenbrock_grad(x):\n",
    "    \"\"\"Gradient of Rosenbrock function\"\"\"\n",
    "    xm = x[1:-1]\n",
    "    xm_m1 = x[:-2]\n",
    "    xm_p1 = x[2:]\n",
    "    der = np.zeros_like(x)\n",
    "    der[1:-1] = 200*(xm-xm_m1**2) - 400*(xm_p1 - xm**2)*xm - 2*(1-xm)\n",
    "    der[0] = -400*x[0]*(x[1]-x[0]**2) - 2*(1-x[0])\n",
    "    der[-1] = 200*(x[-1]-x[-2]**2)\n",
    "    return der\n",
    "\n",
    "def rosenbrock_hess(x):\n",
    "    \"\"\"Hessian of Rosenbrock function\"\"\"\n",
    "    x = np.asarray(x)\n",
    "    H = np.diag(-400*x[:-1],1) - np.diag(400*x[:-1],-1)\n",
    "    diagonal = np.zeros_like(x)\n",
    "    diagonal[0] = 1200*x[0]**2-400*x[1]+2\n",
    "    diagonal[-1] = 200\n",
    "    diagonal[1:-1] = 202 + 1200*x[1:-1]**2 - 400*x[2:]\n",
    "    H = H + np.diag(diagonal)\n",
    "    return H\n",
    "\n",
    "def rosenbrock_hess_vector(x, p):\n",
    "    \"\"\"Hessian Vector Product of Rosenbrock function\"\"\"\n",
    "    x = np.asarray(x)\n",
    "    Hp = np.zeros_like(x)\n",
    "    Hp[0] = (1200*x[0]**2 - 400*x[1] + 2)*p[0] - 400*x[0]*p[1]\n",
    "    Hp[1:-1] = -400*x[:-2]*p[:-2]+(202+1200*x[1:-1]**2-400*x[2:])*p[1:-1]-400*x[1:-1]*p[2:]\n",
    "    Hp[-1] = -400*x[-2]*p[-2] + 200*p[-1]\n",
    "    return Hp"
   ]
  },
  {
   "cell_type": "markdown",
   "metadata": {},
   "source": [
    "## Using Gradient Descent Method"
   ]
  },
  {
   "cell_type": "code",
   "execution_count": 5,
   "metadata": {
    "collapsed": true
   },
   "outputs": [],
   "source": [
    "# Initial guess (to be used in the following methods)\n",
    "x0 = np.array([1.3, 0.7, 0.8, 1.9, 1.2])"
   ]
  },
  {
   "cell_type": "markdown",
   "metadata": {},
   "source": [
    "#### Using Analytical Gradient"
   ]
  },
  {
   "cell_type": "code",
   "execution_count": 6,
   "metadata": {
    "collapsed": false
   },
   "outputs": [
    {
     "data": {
      "text/plain": [
       "array([ 0.99989214,  0.99978389,  0.99956681,  0.99913168,  0.99825978])"
      ]
     },
     "execution_count": 6,
     "metadata": {},
     "output_type": "execute_result"
    }
   ],
   "source": [
    "gd = Grad_Descent()\n",
    "ad = AD(rosenbrock)\n",
    "gd.minimize(rosenbrock, rosenbrock_grad, x0, step=1e-3, iterations=1e5, precision=1e-6)"
   ]
  },
  {
   "cell_type": "markdown",
   "metadata": {},
   "source": [
    "#### Estimating Gradient Using Finite Differences"
   ]
  },
  {
   "cell_type": "code",
   "execution_count": 7,
   "metadata": {
    "collapsed": true
   },
   "outputs": [],
   "source": [
    "def grad_num(x, f, d):\n",
    "    \"\"\"Compute gradient numerically via central difference\"\"\"\n",
    "    grad = np.zeros_like(x)\n",
    "    for k in range(len(x)):\n",
    "        up, down = x.copy(), x.copy()\n",
    "        up[k], down[k] = up[k] + d, down[k] - d\n",
    "        grad[k]= (f(up)-f(down)) / (2*d)\n",
    "    return grad"
   ]
  },
  {
   "cell_type": "code",
   "execution_count": 8,
   "metadata": {
    "collapsed": false
   },
   "outputs": [
    {
     "data": {
      "text/plain": [
       "array([ 0.99989214,  0.99978389,  0.99956681,  0.99913168,  0.99825978])"
      ]
     },
     "execution_count": 8,
     "metadata": {},
     "output_type": "execute_result"
    }
   ],
   "source": [
    "gd = Grad_Descent()\n",
    "ad = AD(rosenbrock)\n",
    "gd.minimize(rosenbrock, lambda x: grad_num(x, rosenbrock, 1e-8), x0, step=1e-3, iterations=1e5, precision=1e-6)"
   ]
  },
  {
   "cell_type": "markdown",
   "metadata": {},
   "source": [
    "#### Estimating Gradient Using Automatic Differentiation (Forward Mode)"
   ]
  },
  {
   "cell_type": "code",
   "execution_count": 9,
   "metadata": {
    "collapsed": false
   },
   "outputs": [
    {
     "data": {
      "text/plain": [
       "array([ 0.99989214,  0.99978389,  0.99956681,  0.99913168,  0.99825978])"
      ]
     },
     "execution_count": 9,
     "metadata": {},
     "output_type": "execute_result"
    }
   ],
   "source": [
    "gd = Grad_Descent()\n",
    "ad = AD(rosenbrock)\n",
    "gd.minimize(rosenbrock, ad.grad_forward, x0, step=1e-3, iterations=1e5, precision=1e-6)"
   ]
  },
  {
   "cell_type": "code",
   "execution_count": 10,
   "metadata": {
    "collapsed": false
   },
   "outputs": [
    {
     "name": "stdout",
     "output_type": "stream",
     "text": [
      "Optimization Stop Reason: Precision is reached\n"
     ]
    }
   ],
   "source": [
    "print(gd.msg)"
   ]
  },
  {
   "cell_type": "code",
   "execution_count": 11,
   "metadata": {
    "collapsed": false
   },
   "outputs": [
    {
     "data": {
      "image/png": "[encoded data removed]",
      "text/plain": [
       "<matplotlib.figure.Figure at 0x10c28f710>"
      ]
     },
     "metadata": {},
     "output_type": "display_data"
    }
   ],
   "source": [
    "gd.converge_plot()"
   ]
  },
  {
   "cell_type": "markdown",
   "metadata": {},
   "source": [
    "#### Estimating Gradient Using Automatic Differentiation (Reverse Mode)"
   ]
  },
  {
   "cell_type": "code",
   "execution_count": 12,
   "metadata": {
    "collapsed": false
   },
   "outputs": [
    {
     "data": {
      "text/plain": [
       "array([ 0.99989214,  0.99978389,  0.99956681,  0.99913168,  0.99825978])"
      ]
     },
     "execution_count": 12,
     "metadata": {},
     "output_type": "execute_result"
    }
   ],
   "source": [
    "gd = Grad_Descent()\n",
    "ad = AD(rosenbrock)\n",
    "gd.minimize(rosenbrock, ad.grad_reverse, x0, step=1e-3, iterations=1e5, precision=1e-6)"
   ]
  },
  {
   "cell_type": "code",
   "execution_count": 13,
   "metadata": {
    "collapsed": false
   },
   "outputs": [
    {
     "name": "stdout",
     "output_type": "stream",
     "text": [
      "Optimization Stop Reason: Precision is reached\n"
     ]
    }
   ],
   "source": [
    "print(gd.msg)"
   ]
  },
  {
   "cell_type": "code",
   "execution_count": 14,
   "metadata": {
    "collapsed": false
   },
   "outputs": [
    {
     "data": {
      "image/png": "[encoded data removed]",
      "text/plain": [
       "<matplotlib.figure.Figure at 0x10c28f198>"
      ]
     },
     "metadata": {},
     "output_type": "display_data"
    }
   ],
   "source": [
    "gd.converge_plot()"
   ]
  },
  {
   "cell_type": "markdown",
   "metadata": {},
   "source": [
    "## Using Nelder-Mead Simplex Method (Derivative Free Optimization)"
   ]
  },
  {
   "cell_type": "code",
   "execution_count": 15,
   "metadata": {
    "collapsed": false
   },
   "outputs": [
    {
     "data": {
      "text/plain": [
       "array([ 1.,  1.,  1.,  1.,  1.])"
      ]
     },
     "execution_count": 15,
     "metadata": {},
     "output_type": "execute_result"
    }
   ],
   "source": [
    "res = minimize(rosenbrock, x0, method='nelder-mead', options={'xtol': 1e-8})\n",
    "res.x"
   ]
  },
  {
   "cell_type": "markdown",
   "metadata": {},
   "source": [
    "## Using BFGS Method"
   ]
  },
  {
   "cell_type": "markdown",
   "metadata": {},
   "source": [
    "#### Using Analytical Gradient"
   ]
  },
  {
   "cell_type": "code",
   "execution_count": 16,
   "metadata": {
    "collapsed": false
   },
   "outputs": [
    {
     "data": {
      "text/plain": [
       "array([ 1.00000004,  1.0000001 ,  1.00000021,  1.00000044,  1.00000092])"
      ]
     },
     "execution_count": 16,
     "metadata": {},
     "output_type": "execute_result"
    }
   ],
   "source": [
    "res = minimize(rosenbrock, x0, method='BFGS', jac=rosenbrock_grad)\n",
    "res.x"
   ]
  },
  {
   "cell_type": "markdown",
   "metadata": {},
   "source": [
    "#### Estimating Gradient Using Finite Differences"
   ]
  },
  {
   "cell_type": "code",
   "execution_count": 17,
   "metadata": {
    "collapsed": false
   },
   "outputs": [
    {
     "data": {
      "text/plain": [
       "array([ 0.99999925,  0.99999852,  0.99999706,  0.99999416,  0.99998833])"
      ]
     },
     "execution_count": 17,
     "metadata": {},
     "output_type": "execute_result"
    }
   ],
   "source": [
    "# If jac is False, the gradient will be estimated numerically\n",
    "res = minimize(rosenbrock, x0, method='BFGS', jac=False)\n",
    "res.x"
   ]
  },
  {
   "cell_type": "markdown",
   "metadata": {},
   "source": [
    "#### Estimating Gradient Using Automatic Differentiation (Forward Mode)"
   ]
  },
  {
   "cell_type": "code",
   "execution_count": 18,
   "metadata": {
    "collapsed": false
   },
   "outputs": [
    {
     "data": {
      "text/plain": [
       "array([ 1.00000004,  1.0000001 ,  1.00000021,  1.00000044,  1.00000092])"
      ]
     },
     "execution_count": 18,
     "metadata": {},
     "output_type": "execute_result"
    }
   ],
   "source": [
    "gd = Grad_Descent()\n",
    "ad = AD(rosenbrock)\n",
    "res = minimize(rosenbrock, x0, method='BFGS', jac=ad.grad_forward)\n",
    "res.x"
   ]
  },
  {
   "cell_type": "markdown",
   "metadata": {},
   "source": [
    "#### Estimating Gradient Using Automatic Differentiation (Reverse Mode)"
   ]
  },
  {
   "cell_type": "code",
   "execution_count": 19,
   "metadata": {
    "collapsed": false
   },
   "outputs": [
    {
     "data": {
      "text/plain": [
       "array([ 1.00000004,  1.0000001 ,  1.00000021,  1.00000044,  1.00000092])"
      ]
     },
     "execution_count": 19,
     "metadata": {},
     "output_type": "execute_result"
    }
   ],
   "source": [
    "res = minimize(rosenbrock, x0, method='BFGS', jac=ad.grad_reverse)\n",
    "res.x"
   ]
  },
  {
   "cell_type": "markdown",
   "metadata": {},
   "source": [
    "## Using Newton-Conjugate-Gradient Method (Based on Hessian)"
   ]
  },
  {
   "cell_type": "markdown",
   "metadata": {},
   "source": [
    "#### Using Analytical Hessian"
   ]
  },
  {
   "cell_type": "code",
   "execution_count": 20,
   "metadata": {
    "collapsed": false
   },
   "outputs": [
    {
     "data": {
      "text/plain": [
       "array([ 1.        ,  1.        ,  1.        ,  0.99999999,  0.99999999])"
      ]
     },
     "execution_count": 20,
     "metadata": {},
     "output_type": "execute_result"
    }
   ],
   "source": [
    "res = minimize(rosenbrock, x0, method='Newton-CG', jac=rosenbrock_grad, hess=rosenbrock_hess, options={'xtol': 1e-8})\n",
    "res.x"
   ]
  },
  {
   "cell_type": "markdown",
   "metadata": {},
   "source": [
    "#### Estimating Hessian (Vector Product) Using Finite Differences"
   ]
  },
  {
   "cell_type": "code",
   "execution_count": 21,
   "metadata": {
    "collapsed": false
   },
   "outputs": [
    {
     "data": {
      "text/plain": [
       "array([ 1.,  1.,  1.,  1.,  1.])"
      ]
     },
     "execution_count": 21,
     "metadata": {},
     "output_type": "execute_result"
    }
   ],
   "source": [
    "# Jacobian is required for Newton-CG method\n",
    "# If neither hess nor hessp is provided, then the Hessian product will be approximated using finite differences on jac\n",
    "res = minimize(rosenbrock, x0, method='Newton-CG', jac=rosenbrock_grad, options={'xtol': 1e-8})\n",
    "res.x"
   ]
  },
  {
   "cell_type": "markdown",
   "metadata": {},
   "source": [
    "#### Estimating Hessian Using Automatic Differentiation (Forward Mode)"
   ]
  },
  {
   "cell_type": "code",
   "execution_count": 22,
   "metadata": {
    "collapsed": false
   },
   "outputs": [
    {
     "name": "stderr",
     "output_type": "stream",
     "text": [
      "/Users/dongmingliu/anaconda/lib/python3.5/site-packages/algopy/utpm/utpm.py:1798: VisibleDeprecationWarning: using a non-integer number instead of an integer will result in an error in the future\n",
      "  S = numpy.zeros((N,M), dtype=x.dtype)\n"
     ]
    },
    {
     "data": {
      "text/plain": [
       "array([ 1.        ,  1.        ,  1.        ,  0.99999999,  0.99999999])"
      ]
     },
     "execution_count": 22,
     "metadata": {},
     "output_type": "execute_result"
    }
   ],
   "source": [
    "gd = Grad_Descent()\n",
    "ad = AD(rosenbrock)\n",
    "res = minimize(rosenbrock, x0, method='Newton-CG', jac=ad.grad_forward, hess=ad.hess_forward, options={'xtol': 1e-8})\n",
    "res.x"
   ]
  },
  {
   "cell_type": "markdown",
   "metadata": {},
   "source": [
    "#### Estimating Hessian Using Automatic Differentiation (Reverse Mode)"
   ]
  },
  {
   "cell_type": "code",
   "execution_count": 23,
   "metadata": {
    "collapsed": false
   },
   "outputs": [
    {
     "data": {
      "text/plain": [
       "array([ 1.        ,  1.        ,  1.        ,  0.99999999,  0.99999999])"
      ]
     },
     "execution_count": 23,
     "metadata": {},
     "output_type": "execute_result"
    }
   ],
   "source": [
    "res = minimize(rosenbrock, x0, method='Newton-CG', jac=ad.grad_reverse, hess=ad.hess_reverse, options={'xtol': 1e-8})\n",
    "res.x"
   ]
  },
  {
   "cell_type": "markdown",
   "metadata": {},
   "source": [
    "## Using Newton-Conjugate-Gradient Method (Based on Hessian Vector Product)"
   ]
  },
  {
   "cell_type": "markdown",
   "metadata": {},
   "source": [
    "#### Using Analytical Hessian Vector Product"
   ]
  },
  {
   "cell_type": "code",
   "execution_count": 24,
   "metadata": {
    "collapsed": false
   },
   "outputs": [
    {
     "data": {
      "text/plain": [
       "array([ 1.        ,  1.        ,  1.        ,  0.99999999,  0.99999999])"
      ]
     },
     "execution_count": 24,
     "metadata": {},
     "output_type": "execute_result"
    }
   ],
   "source": [
    "res = minimize(rosenbrock, x0, method='Newton-CG', jac=rosenbrock_grad, hessp=rosenbrock_hess_vector, options={'xtol': 1e-8})\n",
    "res.x"
   ]
  },
  {
   "cell_type": "markdown",
   "metadata": {},
   "source": [
    "#### Estimating Hessian Vector Product Using Automatic Differentiation (Forward Mode)"
   ]
  },
  {
   "cell_type": "code",
   "execution_count": 25,
   "metadata": {
    "collapsed": false
   },
   "outputs": [
    {
     "data": {
      "text/plain": [
       "array([ 1.        ,  1.        ,  1.        ,  0.99999999,  0.99999999])"
      ]
     },
     "execution_count": 25,
     "metadata": {},
     "output_type": "execute_result"
    }
   ],
   "source": [
    "gd = Grad_Descent()\n",
    "ad = AD(rosenbrock)\n",
    "res = minimize(rosenbrock, x0, method='Newton-CG', jac=ad.grad_forward, hessp=ad.hess_vector_forward, options={'xtol': 1e-8})\n",
    "res.x"
   ]
  },
  {
   "cell_type": "markdown",
   "metadata": {},
   "source": [
    "#### Estimating Hessian Vector Product Using Automatic Differentiation (Reverse Mode)"
   ]
  },
  {
   "cell_type": "code",
   "execution_count": 26,
   "metadata": {
    "collapsed": false
   },
   "outputs": [
    {
     "data": {
      "text/plain": [
       "array([ 1.        ,  1.        ,  1.        ,  0.99999999,  0.99999999])"
      ]
     },
     "execution_count": 26,
     "metadata": {},
     "output_type": "execute_result"
    }
   ],
   "source": [
    "res = minimize(rosenbrock, x0, method='Newton-CG', jac=ad.grad_reverse, hessp=ad.hess_vector_reverse, options={'xtol': 1e-8})\n",
    "res.x"
   ]
  }
 ],
 "metadata": {
  "anaconda-cloud": {},
  "kernelspec": {
   "display_name": "Python [default]",
   "language": "python",
   "name": "python3"
  },
  "language_info": {
   "codemirror_mode": {
    "name": "ipython",
    "version": 3
   },
   "file_extension": ".py",
   "mimetype": "text/x-python",
   "name": "python",
   "nbconvert_exporter": "python",
   "pygments_lexer": "ipython3",
   "version": "3.5.2"
  }
 },
 "nbformat": 4,
 "nbformat_minor": 1
}
